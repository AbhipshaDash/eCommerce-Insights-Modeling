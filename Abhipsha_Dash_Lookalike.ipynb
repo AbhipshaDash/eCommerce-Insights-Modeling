{
  "nbformat": 4,
  "nbformat_minor": 0,
  "metadata": {
    "colab": {
      "provenance": []
    },
    "kernelspec": {
      "name": "python3",
      "display_name": "Python 3"
    },
    "language_info": {
      "name": "python"
    }
  },
  "cells": [
    {
      "cell_type": "code",
      "source": [
        "import pandas as pd\n",
        "import numpy as np\n",
        "from sklearn.metrics.pairwise import cosine_similarity\n",
        "from sklearn.preprocessing import StandardScaler\n"
      ],
      "metadata": {
        "id": "wriiJe0mZGqq"
      },
      "execution_count": 1,
      "outputs": []
    },
    {
      "cell_type": "code",
      "source": [
        "# Load datasets\n",
        "customers = pd.read_csv(\"/content/drive/MyDrive/CopyofCustomers.csv\")\n",
        "products = pd.read_csv(\"/content/drive/MyDrive/CopyofProducts.csv\")\n",
        "transactions = pd.read_csv(\"/content/drive/MyDrive/CopyofTransactions.csv\")"
      ],
      "metadata": {
        "id": "vSrco8fgZIzB"
      },
      "execution_count": 4,
      "outputs": []
    },
    {
      "cell_type": "code",
      "source": [
        "# Preprocess the data\n",
        "customers['SignupDate'] = pd.to_datetime(customers['SignupDate'])\n",
        "transactions['TransactionDate'] = pd.to_datetime(transactions['TransactionDate'])\n"
      ],
      "metadata": {
        "id": "9DA9knWGZKFh"
      },
      "execution_count": 5,
      "outputs": []
    },
    {
      "cell_type": "code",
      "source": [
        "# Merge datasets\n",
        "merged_data = transactions.merge(customers, on=\"CustomerID\").merge(products, on=\"ProductID\")\n"
      ],
      "metadata": {
        "id": "N0vsGU7VZWaD"
      },
      "execution_count": 6,
      "outputs": []
    },
    {
      "cell_type": "code",
      "source": [
        "# Feature Engineering\n",
        "customer_features = merged_data.groupby('CustomerID').agg(\n",
        "    total_spending=('TotalValue', 'sum'),\n",
        "    avg_transaction_value=('TotalValue', 'mean'),\n",
        "    total_transactions=('TransactionID', 'count'),\n",
        "    avg_quantity=('Quantity', 'mean')\n",
        ").reset_index()\n"
      ],
      "metadata": {
        "id": "U-E5PX4hZYhG"
      },
      "execution_count": 7,
      "outputs": []
    },
    {
      "cell_type": "code",
      "source": [
        "# Add region-based categorical encoding\n",
        "region_dummies = pd.get_dummies(customers.set_index('CustomerID')['Region'])\n",
        "customer_features = customer_features.set_index('CustomerID').join(region_dummies)\n",
        "\n"
      ],
      "metadata": {
        "id": "0mhj41v0ZaSV"
      },
      "execution_count": 8,
      "outputs": []
    },
    {
      "cell_type": "code",
      "source": [
        "# Normalize features for similarity calculation\n",
        "scaler = StandardScaler()\n",
        "normalized_features = scaler.fit_transform(customer_features.drop(columns=['total_transactions']))\n",
        "customer_features_normalized = pd.DataFrame(normalized_features,\n",
        "                                            index=customer_features.index,\n",
        "                                            columns=customer_features.columns[1:])\n",
        "\n"
      ],
      "metadata": {
        "id": "PJ978Tm1Zcq6"
      },
      "execution_count": 9,
      "outputs": []
    },
    {
      "cell_type": "code",
      "source": [
        "# Calculate similarity\n",
        "similarity_matrix = cosine_similarity(customer_features_normalized)\n",
        "similarity_df = pd.DataFrame(similarity_matrix, index=customer_features.index, columns=customer_features.index)\n"
      ],
      "metadata": {
        "id": "wz0Zc7kdZfND"
      },
      "execution_count": 10,
      "outputs": []
    },
    {
      "cell_type": "code",
      "source": [
        "# Generate Lookalike Recommendations\n",
        "lookalike_map = {}\n",
        "\n",
        "for customer in customers['CustomerID'][:20]:  # First 20 customers\n",
        "    if customer in similarity_df.index:\n",
        "        similar_customers = similarity_df.loc[customer].sort_values(ascending=False)[1:4]  # Top 3 excluding itself\n",
        "        lookalike_map[customer] = similar_customers.to_dict()\n",
        "\n"
      ],
      "metadata": {
        "id": "levVyM0dZhxe"
      },
      "execution_count": 11,
      "outputs": []
    },
    {
      "cell_type": "code",
      "source": [
        "# Save results to Lookalike.csv\n",
        "output_df = pd.DataFrame({\n",
        "    \"cust_id\": lookalike_map.keys(),\n",
        "    \"recommendations\": [{k: v for k, v in lookalike_map[c].items()} for c in lookalike_map.keys()]\n",
        "})\n",
        "output_df.to_csv(\"Lookalike.csv\", index=False)\n",
        "\n",
        "print(\"Lookalike recommendations saved to Lookalike.csv\")"
      ],
      "metadata": {
        "colab": {
          "base_uri": "https://localhost:8080/"
        },
        "id": "RQ2OTi2zZmBF",
        "outputId": "9fda296f-5607-4297-fb17-35749cf45dec"
      },
      "execution_count": 12,
      "outputs": [
        {
          "output_type": "stream",
          "name": "stdout",
          "text": [
            "Lookalike recommendations saved to Lookalike.csv\n"
          ]
        }
      ]
    },
    {
      "cell_type": "code",
      "source": [],
      "metadata": {
        "id": "8W_QYiE1ZosU"
      },
      "execution_count": null,
      "outputs": []
    }
  ]
}